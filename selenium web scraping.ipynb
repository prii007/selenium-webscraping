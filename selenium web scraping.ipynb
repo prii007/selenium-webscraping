{
 "cells": [
  {
   "cell_type": "markdown",
   "id": "74844f54",
   "metadata": {},
   "source": [
    "Question 1 "
   ]
  },
  {
   "cell_type": "code",
   "execution_count": 1,
   "id": "f5d07f40",
   "metadata": {},
   "outputs": [],
   "source": [
    "# import selenium\n",
    "from selenium import webdriver\n",
    "from selenium.webdriver.common.keys import Keys\n",
    "from selenium.webdriver.common.by import By\n",
    "from selenium.webdriver.chrome.service import Service\n",
    "from time import sleep\n",
    "\n",
    "# Use chromefdriver to open the browser and go to google.com\n",
    "driver = webdriver.Chrome()\n",
    "driver.get(\"https://www.google.com\")\n",
    "sleep(2)\n",
    "\n",
    "# input \"askew\" into the search bar and press enter\n",
    "search_bar = driver.find_element(By.NAME, \"q\")\n",
    "search_bar.send_keys(\"askew\")\n",
    "sleep(10)\n",
    "search_bar.send_keys(Keys.RETURN)\n",
    "sleep(10)\n",
    "driver.quit()"
   ]
  },
  {
   "cell_type": "code",
   "execution_count": 2,
   "id": "1407b66b",
   "metadata": {},
   "outputs": [],
   "source": [
    "# import selenium\n",
    "from selenium import webdriver\n",
    "from selenium.webdriver.common.keys import Keys\n",
    "from selenium.webdriver.common.by import By\n",
    "from selenium.webdriver.chrome.service import Service\n",
    "from time import sleep\n",
    "\n",
    "# Use chromefdriver to open the browser and go to google.com\n",
    "driver = webdriver.Chrome()\n",
    "driver.get(\"https://www.google.com\")\n",
    "sleep(2)\n",
    "\n",
    "# input \"google in 1998\" into the search bar and press enter\n",
    "search_bar = driver.find_element(By.NAME, \"q\")\n",
    "search_bar.send_keys(\"google in 1998\")\n",
    "sleep(10)\n",
    "search_bar.send_keys(Keys.RETURN)\n",
    "sleep(10)\n",
    "driver.quit()"
   ]
  },
  {
   "cell_type": "markdown",
   "id": "14aa4e46",
   "metadata": {},
   "source": [
    "Question 2 "
   ]
  },
  {
   "cell_type": "code",
   "execution_count": 3,
   "id": "6beee1c8",
   "metadata": {},
   "outputs": [
    {
     "ename": "NoSuchElementException",
     "evalue": "Message: no such element: Unable to locate element: {\"method\":\"xpath\",\"selector\":\"//a[@data-lid=\"hdr_dotd\"]\"}\n  (Session info: chrome=130.0.6723.70); For documentation on this error, please visit: https://www.selenium.dev/documentation/webdriver/troubleshooting/errors#no-such-element-exception\nStacktrace:\n0   chromedriver                        0x000000010650df68 chromedriver + 7110504\n1   chromedriver                        0x0000000106505f6a chromedriver + 7077738\n2   chromedriver                        0x0000000105ea70f0 chromedriver + 397552\n3   chromedriver                        0x0000000105ef3383 chromedriver + 709507\n4   chromedriver                        0x0000000105ef3681 chromedriver + 710273\n5   chromedriver                        0x0000000105f38e14 chromedriver + 994836\n6   chromedriver                        0x0000000105f1793d chromedriver + 858429\n7   chromedriver                        0x0000000105f36234 chromedriver + 983604\n8   chromedriver                        0x0000000105f176b3 chromedriver + 857779\n9   chromedriver                        0x0000000105ee6182 chromedriver + 655746\n10  chromedriver                        0x0000000105ee715e chromedriver + 659806\n11  chromedriver                        0x00000001064d33b0 chromedriver + 6869936\n12  chromedriver                        0x00000001064d72e4 chromedriver + 6886116\n13  chromedriver                        0x00000001064b59b7 chromedriver + 6748599\n14  chromedriver                        0x00000001064d7d6e chromedriver + 6888814\n15  chromedriver                        0x00000001064a4c84 chromedriver + 6679684\n16  chromedriver                        0x00000001064f4838 chromedriver + 7006264\n17  chromedriver                        0x00000001064f49f6 chromedriver + 7006710\n18  chromedriver                        0x0000000106505b78 chromedriver + 7076728\n19  libsystem_pthread.dylib             0x00007ff81b3404e1 _pthread_start + 125\n20  libsystem_pthread.dylib             0x00007ff81b33bf6b thread_start + 15\n",
     "output_type": "error",
     "traceback": [
      "\u001b[0;31m---------------------------------------------------------------------------\u001b[0m",
      "\u001b[0;31mNoSuchElementException\u001b[0m                    Traceback (most recent call last)",
      "Cell \u001b[0;32mIn[3], line 13\u001b[0m\n\u001b[1;32m     10\u001b[0m driver\u001b[38;5;241m.\u001b[39mget(\u001b[38;5;124m\"\u001b[39m\u001b[38;5;124mhttps://www.bestbuy.com\u001b[39m\u001b[38;5;124m\"\u001b[39m)\n\u001b[1;32m     12\u001b[0m \u001b[38;5;66;03m#click on the deal of the day on best buy website \u001b[39;00m\n\u001b[0;32m---> 13\u001b[0m deal_of_the_day \u001b[38;5;241m=\u001b[39m driver\u001b[38;5;241m.\u001b[39mfind_element(By\u001b[38;5;241m.\u001b[39mXPATH, \u001b[38;5;124m'\u001b[39m\u001b[38;5;124m//a[@data-lid=\u001b[39m\u001b[38;5;124m\"\u001b[39m\u001b[38;5;124mhdr_dotd\u001b[39m\u001b[38;5;124m\"\u001b[39m\u001b[38;5;124m]\u001b[39m\u001b[38;5;124m'\u001b[39m) \u001b[38;5;66;03m# we use @ to look for the attribute\u001b[39;00m\n\u001b[1;32m     14\u001b[0m deal_of_the_day\u001b[38;5;241m.\u001b[39mclick()\n\u001b[1;32m     15\u001b[0m sleep(\u001b[38;5;241m3\u001b[39m)\n",
      "File \u001b[0;32m/Applications/anaconda3/lib/python3.11/site-packages/selenium/webdriver/remote/webdriver.py:741\u001b[0m, in \u001b[0;36mWebDriver.find_element\u001b[0;34m(self, by, value)\u001b[0m\n\u001b[1;32m    738\u001b[0m     by \u001b[38;5;241m=\u001b[39m By\u001b[38;5;241m.\u001b[39mCSS_SELECTOR\n\u001b[1;32m    739\u001b[0m     value \u001b[38;5;241m=\u001b[39m \u001b[38;5;124mf\u001b[39m\u001b[38;5;124m'\u001b[39m\u001b[38;5;124m[name=\u001b[39m\u001b[38;5;124m\"\u001b[39m\u001b[38;5;132;01m{\u001b[39;00mvalue\u001b[38;5;132;01m}\u001b[39;00m\u001b[38;5;124m\"\u001b[39m\u001b[38;5;124m]\u001b[39m\u001b[38;5;124m'\u001b[39m\n\u001b[0;32m--> 741\u001b[0m \u001b[38;5;28;01mreturn\u001b[39;00m \u001b[38;5;28mself\u001b[39m\u001b[38;5;241m.\u001b[39mexecute(Command\u001b[38;5;241m.\u001b[39mFIND_ELEMENT, {\u001b[38;5;124m\"\u001b[39m\u001b[38;5;124musing\u001b[39m\u001b[38;5;124m\"\u001b[39m: by, \u001b[38;5;124m\"\u001b[39m\u001b[38;5;124mvalue\u001b[39m\u001b[38;5;124m\"\u001b[39m: value})[\u001b[38;5;124m\"\u001b[39m\u001b[38;5;124mvalue\u001b[39m\u001b[38;5;124m\"\u001b[39m]\n",
      "File \u001b[0;32m/Applications/anaconda3/lib/python3.11/site-packages/selenium/webdriver/remote/webdriver.py:347\u001b[0m, in \u001b[0;36mWebDriver.execute\u001b[0;34m(self, driver_command, params)\u001b[0m\n\u001b[1;32m    345\u001b[0m response \u001b[38;5;241m=\u001b[39m \u001b[38;5;28mself\u001b[39m\u001b[38;5;241m.\u001b[39mcommand_executor\u001b[38;5;241m.\u001b[39mexecute(driver_command, params)\n\u001b[1;32m    346\u001b[0m \u001b[38;5;28;01mif\u001b[39;00m response:\n\u001b[0;32m--> 347\u001b[0m     \u001b[38;5;28mself\u001b[39m\u001b[38;5;241m.\u001b[39merror_handler\u001b[38;5;241m.\u001b[39mcheck_response(response)\n\u001b[1;32m    348\u001b[0m     response[\u001b[38;5;124m\"\u001b[39m\u001b[38;5;124mvalue\u001b[39m\u001b[38;5;124m\"\u001b[39m] \u001b[38;5;241m=\u001b[39m \u001b[38;5;28mself\u001b[39m\u001b[38;5;241m.\u001b[39m_unwrap_value(response\u001b[38;5;241m.\u001b[39mget(\u001b[38;5;124m\"\u001b[39m\u001b[38;5;124mvalue\u001b[39m\u001b[38;5;124m\"\u001b[39m, \u001b[38;5;28;01mNone\u001b[39;00m))\n\u001b[1;32m    349\u001b[0m     \u001b[38;5;28;01mreturn\u001b[39;00m response\n",
      "File \u001b[0;32m/Applications/anaconda3/lib/python3.11/site-packages/selenium/webdriver/remote/errorhandler.py:229\u001b[0m, in \u001b[0;36mErrorHandler.check_response\u001b[0;34m(self, response)\u001b[0m\n\u001b[1;32m    227\u001b[0m         alert_text \u001b[38;5;241m=\u001b[39m value[\u001b[38;5;124m\"\u001b[39m\u001b[38;5;124malert\u001b[39m\u001b[38;5;124m\"\u001b[39m]\u001b[38;5;241m.\u001b[39mget(\u001b[38;5;124m\"\u001b[39m\u001b[38;5;124mtext\u001b[39m\u001b[38;5;124m\"\u001b[39m)\n\u001b[1;32m    228\u001b[0m     \u001b[38;5;28;01mraise\u001b[39;00m exception_class(message, screen, stacktrace, alert_text)  \u001b[38;5;66;03m# type: ignore[call-arg]  # mypy is not smart enough here\u001b[39;00m\n\u001b[0;32m--> 229\u001b[0m \u001b[38;5;28;01mraise\u001b[39;00m exception_class(message, screen, stacktrace)\n",
      "\u001b[0;31mNoSuchElementException\u001b[0m: Message: no such element: Unable to locate element: {\"method\":\"xpath\",\"selector\":\"//a[@data-lid=\"hdr_dotd\"]\"}\n  (Session info: chrome=130.0.6723.70); For documentation on this error, please visit: https://www.selenium.dev/documentation/webdriver/troubleshooting/errors#no-such-element-exception\nStacktrace:\n0   chromedriver                        0x000000010650df68 chromedriver + 7110504\n1   chromedriver                        0x0000000106505f6a chromedriver + 7077738\n2   chromedriver                        0x0000000105ea70f0 chromedriver + 397552\n3   chromedriver                        0x0000000105ef3383 chromedriver + 709507\n4   chromedriver                        0x0000000105ef3681 chromedriver + 710273\n5   chromedriver                        0x0000000105f38e14 chromedriver + 994836\n6   chromedriver                        0x0000000105f1793d chromedriver + 858429\n7   chromedriver                        0x0000000105f36234 chromedriver + 983604\n8   chromedriver                        0x0000000105f176b3 chromedriver + 857779\n9   chromedriver                        0x0000000105ee6182 chromedriver + 655746\n10  chromedriver                        0x0000000105ee715e chromedriver + 659806\n11  chromedriver                        0x00000001064d33b0 chromedriver + 6869936\n12  chromedriver                        0x00000001064d72e4 chromedriver + 6886116\n13  chromedriver                        0x00000001064b59b7 chromedriver + 6748599\n14  chromedriver                        0x00000001064d7d6e chromedriver + 6888814\n15  chromedriver                        0x00000001064a4c84 chromedriver + 6679684\n16  chromedriver                        0x00000001064f4838 chromedriver + 7006264\n17  chromedriver                        0x00000001064f49f6 chromedriver + 7006710\n18  chromedriver                        0x0000000106505b78 chromedriver + 7076728\n19  libsystem_pthread.dylib             0x00007ff81b3404e1 _pthread_start + 125\n20  libsystem_pthread.dylib             0x00007ff81b33bf6b thread_start + 15\n"
     ]
    }
   ],
   "source": [
    "# import selenium\n",
    "from selenium import webdriver\n",
    "from selenium.webdriver.common.keys import Keys\n",
    "from selenium.webdriver.common.by import By\n",
    "from selenium.webdriver.chrome.service import Service\n",
    "from time import sleep\n",
    "\n",
    "# Use chromefdriver to open the browser and go to google.com\n",
    "driver = webdriver.Chrome()\n",
    "driver.get(\"https://www.bestbuy.com\")\n",
    "\n",
    "#click on the deal of the day on best buy website \n",
    "deal_of_the_day = driver.find_element(By.XPATH, '//a[@data-lid=\"hdr_dotd\"]') # we use @ to look for the attribute\n",
    "deal_of_the_day.click()\n",
    "sleep(3)\n",
    "\n",
    "#print the remaining time on screen\n",
    "time_remaining =  driver.find_element(By.CLASS_NAME, 'countdown-clock').text\n",
    "\n",
    "print(f\"Time remaining for Deal of the Day is {time_remaining}\")\n",
    "\n",
    "#click on the product which comes under the deal of the day \n",
    "deal_of_the_day = driver.find_element(By.CSS_SELECTOR, \"h1.product-title a.wf-offer-link\")\n",
    "deal_of_the_day.click()\n",
    "sleep(3)\n",
    "\n",
    "#click on reviews to scroll down to the page where reviews of the product are written \n",
    "deal_of_the_day = driver.find_element(By.CSS_SELECTOR, \"span.c-reviews\")\n",
    "deal_of_the_day.click()\n",
    "sleep(5)\n",
    "\n",
    "#click to see all the customer reviews for that product \n",
    "deal_of_the_day = driver.find_element(By.CSS_SELECTOR, \"a[data-track = 'See All Customer Reviews']\")\n",
    "deal_of_the_day.click()\n",
    "sleep(5)\n",
    "\n",
    "#saving the reviews in the local hard drive\n",
    "html_file = driver.page_source\n",
    "with open(\"bestbuy_deal_of_the_day.htm\", \"w\", encoding = \"utf-8\") as file:\n",
    "    file.write(html_file)\n",
    "    \n",
    "\n",
    "#closing the browser \n",
    "driver.quit()\n",
    "\n"
   ]
  },
  {
   "cell_type": "markdown",
   "id": "b291277a",
   "metadata": {},
   "source": [
    "Question 3 "
   ]
  },
  {
   "cell_type": "code",
   "execution_count": null,
   "id": "7cd41f17",
   "metadata": {},
   "outputs": [],
   "source": [
    "# import selenium\n",
    "from selenium import webdriver\n",
    "from selenium.webdriver.common.keys import Keys\n",
    "from selenium.webdriver.common.by import By\n",
    "from selenium.webdriver.chrome.service import Service\n",
    "from time import sleep\n",
    "\n",
    "\n",
    "# Use chromefdriver to open the browser and go to google.com\n",
    "driver = webdriver.Chrome()\n",
    "driver.get(\"https://www.lavazzausa.com\")\n",
    "sleep(3)\n",
    "\n",
    "#click on reject all to reject the cookies \n",
    "coffee = driver.find_element(By.ID, \"consent_prompt_reject\")\n",
    "coffee.click()\n",
    "sleep(3)\n",
    "\n",
    "#click on products\n",
    "coffee = driver.find_element(By.ID, \"PRODUCTS\")\n",
    "coffee.click()\n",
    "sleep(3)\n",
    "\n",
    "#click on capsule coffee machines \n",
    "coffee = driver.find_element(By.CSS_SELECTOR, \"a[href='/en/coffee-machines']\")\n",
    "coffee.click()\n",
    "sleep(3)\n",
    "\n",
    "\n",
    "#saving the information under capsule coffee machines in the local hard drive\n",
    "coffee_file = driver.page_source\n",
    "with open(\"lavazza.htm\", \"w\", encoding = \"utf-8\") as file:\n",
    "    file.write(coffee_file)\n",
    "    \n",
    "\n",
    "#closing the browser \n",
    "driver.quit()\n",
    "\n",
    "#importing beautiful soup \n",
    "from bs4 import BeautifulSoup\n",
    "\n",
    "#opening the local hard drive file within beautifulsoup\n",
    "with open(\"lavazza.htm\", \"r\", encoding = \"utf-8\") as file:\n",
    "    soup = BeautifulSoup(file, \"html.parser\")\n",
    "\n",
    "#checking the original price of classy plus bundle in the local hard drive file     \n",
    "Classy_plus_bundle = soup.find(\"span\", class_= \"lvz-product-card__pricing--old\").text\n",
    "\n",
    "\n",
    "print(f\"The original price of classy plus bundle is {Classy_plus_bundle}\")"
   ]
  }
 ],
 "metadata": {
  "kernelspec": {
   "display_name": "Python 3 (ipykernel)",
   "language": "python",
   "name": "python3"
  },
  "language_info": {
   "codemirror_mode": {
    "name": "ipython",
    "version": 3
   },
   "file_extension": ".py",
   "mimetype": "text/x-python",
   "name": "python",
   "nbconvert_exporter": "python",
   "pygments_lexer": "ipython3",
   "version": "3.11.5"
  }
 },
 "nbformat": 4,
 "nbformat_minor": 5
}
